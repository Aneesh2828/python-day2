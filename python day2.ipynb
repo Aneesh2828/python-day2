{
 "cells": [
  {
   "cell_type": "code",
   "execution_count": 1,
   "metadata": {},
   "outputs": [
    {
     "name": "stdout",
     "output_type": "stream",
     "text": [
      "enter the number 112\n",
      "enter the number 223\n",
      "enter the number 333\n",
      "33 is the largest number\n"
     ]
    }
   ],
   "source": [
    "a1=int(input(\"enter the number 1\"))\n",
    "a2=int(input(\"enter the number 2\"))\n",
    "a3=int(input(\"enter the number 3\"))\n",
    "\n",
    "if a1>a2 and a1>a2:\n",
    "    print(a1,\"is the larger number\")\n",
    "elif a2>a1 and a2>a3:\n",
    "    print(a2,\"is the largest number\")\n",
    "else:\n",
    "    print(a3,\"is the largest number\")\n",
    "    "
   ]
  },
  {
   "cell_type": "code",
   "execution_count": 3,
   "metadata": {},
   "outputs": [
    {
     "name": "stdout",
     "output_type": "stream",
     "text": [
      "enter the year2016\n",
      "it is the leap year\n"
     ]
    }
   ],
   "source": [
    "a=int(input(\"enter the year\"))\n",
    "if a%4==0:\n",
    "    print(\"it is the leap year\")\n",
    "else:\n",
    "    print(\"it is not a leap year\")\n",
    "    "
   ]
  },
  {
   "cell_type": "code",
   "execution_count": 4,
   "metadata": {},
   "outputs": [
    {
     "name": "stdout",
     "output_type": "stream",
     "text": [
      "gitam\n",
      "gitam\n",
      "gitam\n",
      "gitam\n",
      "gitam\n"
     ]
    }
   ],
   "source": [
    "x=0\n",
    "while x<5:\n",
    "    print(\"gitam\")\n",
    "    x=x+1\n",
    "    "
   ]
  },
  {
   "cell_type": "code",
   "execution_count": 5,
   "metadata": {},
   "outputs": [
    {
     "name": "stdout",
     "output_type": "stream",
     "text": [
      "gitam\n",
      "gitam\n",
      "gitam\n",
      "gitam\n",
      "gitam\n"
     ]
    }
   ],
   "source": [
    "x=0\n",
    "while x<5:\n",
    "    x=x+1\n",
    "    print(\"gitam\")\n",
    "    "
   ]
  },
  {
   "cell_type": "code",
   "execution_count": 8,
   "metadata": {},
   "outputs": [
    {
     "name": "stdout",
     "output_type": "stream",
     "text": [
      "1 2 3 4 5 6 7 8 9 10 "
     ]
    }
   ],
   "source": [
    "x=0\n",
    "while x<10:\n",
    "    x=x+1\n",
    "    print(x,end=\" \")"
   ]
  },
  {
   "cell_type": "code",
   "execution_count": null,
   "metadata": {},
   "outputs": [
    {
     "name": "stdout",
     "output_type": "stream",
     "text": [
      "enter the number10\n"
     ]
    }
   ],
   "source": [
    "n=int(input(\"enter the number\"))\n",
    "sum=0\n",
    "x=1\n",
    "while x<=n:\n",
    "    if x%2==0:\n",
    "        sum=sum+x\n",
    "        x=x+1\n",
    "        print(sum) "
   ]
  },
  {
   "cell_type": "code",
   "execution_count": null,
   "metadata": {},
   "outputs": [],
   "source": [
    "n=int(input(\"enter the number\"))\n",
    "sum=0\n",
    "x=1\n",
    "while x<=n:\n",
    "    if x%2==0:\n",
    "        sum=sum+x\n",
    "        x=x+1\n",
    "        print(sum)\n",
    "        "
   ]
  },
  {
   "cell_type": "code",
   "execution_count": 1,
   "metadata": {},
   "outputs": [
    {
     "name": "stdout",
     "output_type": "stream",
     "text": [
      "enter the number123\n",
      "3 2 1 "
     ]
    }
   ],
   "source": [
    "n=int(input('enter the number'))\n",
    "while n!=0:\n",
    "    r=n%10\n",
    "    print(r,end=\" \")\n",
    "    n=n // 10"
   ]
  },
  {
   "cell_type": "code",
   "execution_count": 10,
   "metadata": {},
   "outputs": [
    {
     "name": "stdout",
     "output_type": "stream",
     "text": [
      "[2, 3, 4]\n"
     ]
    }
   ],
   "source": [
    "numbers=[2,3,4]\n",
    "print(numbers)\n"
   ]
  },
  {
   "cell_type": "code",
   "execution_count": 2,
   "metadata": {},
   "outputs": [
    {
     "name": "stdout",
     "output_type": "stream",
     "text": [
      "6\n"
     ]
    },
    {
     "data": {
      "text/plain": [
       "6"
      ]
     },
     "execution_count": 2,
     "metadata": {},
     "output_type": "execute_result"
    }
   ],
   "source": [
    "def addevennumber(n):        \n",
    "    sum=0\n",
    "    while n!=0:\n",
    "        r=n%10\n",
    "        if r%2==0:\n",
    "            sum=sum+r\n",
    "        n=n//10\n",
    "    print(sum)\n",
    "    return sum\n",
    "addevennumber(1234)"
   ]
  },
  {
   "cell_type": "code",
   "execution_count": 5,
   "metadata": {},
   "outputs": [
    {
     "data": {
      "text/plain": [
       "9"
      ]
     },
     "execution_count": 5,
     "metadata": {},
     "output_type": "execute_result"
    }
   ],
   "source": [
    "def printlarge(n):\n",
    "    large=0\n",
    "    while n!=0:\n",
    "        r=n%10\n",
    "        if large<r:\n",
    "            large=r\n",
    "        n=n//10\n",
    "    return large\n",
    "printlarge(19528)"
   ]
  },
  {
   "cell_type": "code",
   "execution_count": 6,
   "metadata": {},
   "outputs": [
    {
     "name": "stdout",
     "output_type": "stream",
     "text": [
      "enter the number1234\n",
      "4 3 2 1 "
     ]
    }
   ],
   "source": [
    "def reversenumber(n):\n",
    "    n=int(input(\"enter the number\"))\n",
    "    while n!=0:\n",
    "        r=n%10\n",
    "        print(r,end=\" \")\n",
    "        n=n//10\n",
    "    return\n",
    "reversenumber(1234)\n",
    "        \n",
    "            "
   ]
  },
  {
   "cell_type": "code",
   "execution_count": 16,
   "metadata": {},
   "outputs": [
    {
     "name": "stdout",
     "output_type": "stream",
     "text": [
      "enter the number123\n"
     ]
    },
    {
     "ename": "NameError",
     "evalue": "name 'no' is not defined",
     "output_type": "error",
     "traceback": [
      "\u001b[1;31m---------------------------------------------------------------------------\u001b[0m",
      "\u001b[1;31mNameError\u001b[0m                                 Traceback (most recent call last)",
      "\u001b[1;32m<ipython-input-16-653269d49e58>\u001b[0m in \u001b[0;36m<module>\u001b[1;34m\u001b[0m\n\u001b[0;32m     10\u001b[0m         \u001b[1;32melse\u001b[0m\u001b[1;33m:\u001b[0m\u001b[1;33m\u001b[0m\u001b[1;33m\u001b[0m\u001b[0m\n\u001b[0;32m     11\u001b[0m             \u001b[1;32mreturn\u001b[0m \u001b[0mno\u001b[0m\u001b[1;33m\u001b[0m\u001b[1;33m\u001b[0m\u001b[0m\n\u001b[1;32m---> 12\u001b[1;33m \u001b[0mispalindrome\u001b[0m\u001b[1;33m(\u001b[0m\u001b[1;36m123\u001b[0m\u001b[1;33m)\u001b[0m\u001b[1;33m\u001b[0m\u001b[1;33m\u001b[0m\u001b[0m\n\u001b[0m\u001b[0;32m     13\u001b[0m \u001b[1;33m\u001b[0m\u001b[0m\n",
      "\u001b[1;32m<ipython-input-16-653269d49e58>\u001b[0m in \u001b[0;36mispalindrome\u001b[1;34m(n)\u001b[0m\n\u001b[0;32m      9\u001b[0m             \u001b[1;32mreturn\u001b[0m \u001b[0myes\u001b[0m\u001b[1;33m\u001b[0m\u001b[1;33m\u001b[0m\u001b[0m\n\u001b[0;32m     10\u001b[0m         \u001b[1;32melse\u001b[0m\u001b[1;33m:\u001b[0m\u001b[1;33m\u001b[0m\u001b[1;33m\u001b[0m\u001b[0m\n\u001b[1;32m---> 11\u001b[1;33m             \u001b[1;32mreturn\u001b[0m \u001b[0mno\u001b[0m\u001b[1;33m\u001b[0m\u001b[1;33m\u001b[0m\u001b[0m\n\u001b[0m\u001b[0;32m     12\u001b[0m \u001b[0mispalindrome\u001b[0m\u001b[1;33m(\u001b[0m\u001b[1;36m123\u001b[0m\u001b[1;33m)\u001b[0m\u001b[1;33m\u001b[0m\u001b[1;33m\u001b[0m\u001b[0m\n\u001b[0;32m     13\u001b[0m \u001b[1;33m\u001b[0m\u001b[0m\n",
      "\u001b[1;31mNameError\u001b[0m: name 'no' is not defined"
     ]
    }
   ],
   "source": [
    "def ispalindrome(n):\n",
    "    rev=0\n",
    "    n=int(input(\"enter the number\"))\n",
    "    while n!=0:\n",
    "        r=n%10\n",
    "        rev=rev*10+r\n",
    "        n=n//10\n",
    "        if rev==n:\n",
    "            return yes\n",
    "        else:\n",
    "            return no\n",
    "ispalindrome(123)\n",
    "      "
   ]
  },
  {
   "cell_type": "code",
   "execution_count": 2,
   "metadata": {},
   "outputs": [
    {
     "name": "stdout",
     "output_type": "stream",
     "text": [
      "11 12 13 14 15 16 17 18 19 20 21 22 23 24 25 "
     ]
    }
   ],
   "source": [
    "def printseries(lb,ub):\n",
    "    for x in range(lb,ub+1):\n",
    "        print(x,end=\" \")\n",
    "    return\n",
    "printseries(11,25)"
   ]
  },
  {
   "cell_type": "code",
   "execution_count": 3,
   "metadata": {},
   "outputs": [
    {
     "name": "stdout",
     "output_type": "stream",
     "text": [
      "100 104 108 112 116 120 124 128 132 136 140 144 148 "
     ]
    }
   ],
   "source": [
    "def alternatenumber(lb,ub):\n",
    "    for x in range(lb,ub,4):\n",
    "        print(x,end=\" \")\n",
    "    return\n",
    "alternatenumber(100,150)\n"
   ]
  },
  {
   "cell_type": "code",
   "execution_count": 5,
   "metadata": {},
   "outputs": [
    {
     "name": "stdout",
     "output_type": "stream",
     "text": [
      "10 9 8 7 6 5 4 3 2 1 "
     ]
    }
   ],
   "source": [
    "def reverseseries(start,end):\n",
    "    for x in range(end,start-1,-1):\n",
    "        print(x,end=\" \")\n",
    "    return\n",
    "reverseseries(1,10)\n"
   ]
  },
  {
   "cell_type": "code",
   "execution_count": null,
   "metadata": {},
   "outputs": [],
   "source": []
  }
 ],
 "metadata": {
  "kernelspec": {
   "display_name": "Python 3",
   "language": "python",
   "name": "python3"
  },
  "language_info": {
   "codemirror_mode": {
    "name": "ipython",
    "version": 3
   },
   "file_extension": ".py",
   "mimetype": "text/x-python",
   "name": "python",
   "nbconvert_exporter": "python",
   "pygments_lexer": "ipython3",
   "version": "3.7.3"
  }
 },
 "nbformat": 4,
 "nbformat_minor": 2
}
